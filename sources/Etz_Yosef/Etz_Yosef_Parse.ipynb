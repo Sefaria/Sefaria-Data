{
 "cells": [
  {
   "cell_type": "code",
   "execution_count": 1,
   "metadata": {},
   "outputs": [],
   "source": [
    "import os\n",
    "import re\n",
    "import unicodecsv\n",
    "import django\n",
    "django.setup()\n",
    "from sefaria.model import *\n",
    "from collections import defaultdict, namedtuple\n",
    "from sefaria.datatype import jagged_array\n",
    "from data_utilities.util import getGematria"
   ]
  },
  {
   "cell_type": "code",
   "execution_count": 2,
   "metadata": {},
   "outputs": [],
   "source": [
    "RefTracker = namedtuple('RefTracker', ['ref', 'indices'])"
   ]
  },
  {
   "cell_type": "code",
   "execution_count": 3,
   "metadata": {},
   "outputs": [],
   "source": [
    "def collect_sections(rows):\n",
    "    ref_list, prev_ref = [], None\n",
    "    section_map = defaultdict(list)\n",
    "    for row in rows:\n",
    "        cur_ref = Ref(row[u'EY current paragraph'])\n",
    "        cur_ref_normal = cur_ref.normal()\n",
    "        \n",
    "        if cur_ref_normal != prev_ref:\n",
    "            ref_list.append(RefTracker(cur_ref_normal, [i-1 for i in cur_ref.sections]))\n",
    "            prev_ref = cur_ref_normal\n",
    "            \n",
    "        section_map[cur_ref_normal].append(row[u'EY comment'])\n",
    "    \n",
    "    ref_list.sort(key=lambda x: x.indices)\n",
    "    ja = jagged_array.JaggedArray()\n",
    "    for ref in ref_list:\n",
    "        ja.set_element(ref.indices, section_map[ref.ref], pad=[])\n",
    "    \n",
    "    return ja.array()"
   ]
  },
  {
   "cell_type": "code",
   "execution_count": 4,
   "metadata": {},
   "outputs": [],
   "source": [
    "def collect_sections_genesis(rows):\n",
    "    def zero_index_gematria(gem): return getGematria(gem) - 1\n",
    "    \n",
    "    parsha_reg = re.compile(u'\\u05e4\\u05e8\\u05e9\\u05d4 ([\\u05d0-\\u05ea]{1,2})')\n",
    "    current_section = []\n",
    "    indices, new_indices = [0, 0], [0, 0]\n",
    "    ja = jagged_array.JaggedArray()\n",
    "    \n",
    "    for row in rows:    \n",
    "        if row[0]:\n",
    "            new_indices[0] = zero_index_gematria(parsha_reg.search(row[0]).group(1))\n",
    "        if row[1]:\n",
    "            new_indices[1] = zero_index_gematria(row[1])\n",
    "            \n",
    "        if new_indices != indices:\n",
    "            ja.set_element(indices, current_section, pad=[])\n",
    "            indices = new_indices[:]\n",
    "            current_section = []\n",
    "        current_section.append(row[2])\n",
    "    \n",
    "    return ja.array()"
   ]
  },
  {
   "cell_type": "markdown",
   "metadata": {},
   "source": [
    "Etz Yosef on Midrash [Book]\n",
    "\n",
    "Midrash Rabbah, with Etz Yosef, Warsaw, 1867\n"
   ]
  },
  {
   "cell_type": "code",
   "execution_count": 5,
   "metadata": {},
   "outputs": [],
   "source": [
    "from sources.functions import post_index, post_text, add_term, add_category"
   ]
  },
  {
   "cell_type": "code",
   "execution_count": 26,
   "metadata": {},
   "outputs": [],
   "source": [
    "server = 'https://www.sefaria.org'"
   ]
  },
  {
   "cell_type": "code",
   "execution_count": 27,
   "metadata": {},
   "outputs": [
    {
     "name": "stdout",
     "output_type": "stream",
     "text": [
      "\u001b[92mPOST request to https://www.sefaria.org/api/terms/Etz%20Yosef successful\u001b[0m\n"
     ]
    }
   ],
   "source": [
    "add_term(\"Etz Yosef\", u'עץ יוסף', server=server)"
   ]
  },
  {
   "cell_type": "code",
   "execution_count": 28,
   "metadata": {},
   "outputs": [
    {
     "data": {
      "text/plain": [
       "<Response [200]>"
      ]
     },
     "execution_count": 28,
     "metadata": {},
     "output_type": "execute_result"
    }
   ],
   "source": [
    "add_category(\"Etz Yosef\", [\"Midrash\", \"Aggadic Midrash\", \"Midrash Rabbah\", \"Commentary\", \"Etz Yosef\"], server=server)"
   ]
  },
  {
   "cell_type": "code",
   "execution_count": 24,
   "metadata": {},
   "outputs": [],
   "source": [
    "def create_index(book_name):\n",
    "    node = JaggedArrayNode()\n",
    "    he_name = Ref(book_name).he_book()\n",
    "    en_title = \"Etz Yosef on {}\".format(book_name)\n",
    "    he_title = u\"עץ יוסף על {}\".format(he_name)\n",
    "    node.add_primary_titles(en_title, he_title)\n",
    "    node.add_structure([\"Chapter\", \"Paragraph\", \"Comment\"])\n",
    "    node.toc_zoom =2\n",
    "    return {\n",
    "        u'title': en_title,\n",
    "        u'categories': [\"Midrash\", \"Aggadic Midrash\", \"Midrash Rabbah\", \"Commentary\", \"Etz Yosef\"],\n",
    "        u'dependence': u'Commentary',\n",
    "        u'collective_title': u'Etz Yosef',\n",
    "        u'schema': node.serialize(),\n",
    "        u'base_text_titles': [book_name],\n",
    "        u\"base_text_mapping\": u\"many_to_one\"\n",
    "    }"
   ]
  },
  {
   "cell_type": "code",
   "execution_count": 11,
   "metadata": {},
   "outputs": [],
   "source": [
    "def create_version(text_array):\n",
    "    return {\n",
    "        u'versionTitle': u'Midrash Rabbah, with Etz Yosef, Warsaw, 1867',\n",
    "        u'versionSource': u'http://merhav.nli.org.il/primo-explore/fulldisplay?docid=NNL_ALEPH001987082&context=L&vid=NLI&search_scope=Local&tab=default_tab&lang=iw_IL',\n",
    "        u'language': u'he',\n",
    "        u'text': text_array\n",
    "    }"
   ]
  },
  {
   "cell_type": "code",
   "execution_count": 12,
   "metadata": {},
   "outputs": [],
   "source": [
    "def upload_text(filename, base_en, dest):\n",
    "    with open(filename) as fp:\n",
    "        if filename == u'Etz_Yosef_-_Genesis_-_tags_corrected.csv':\n",
    "            text_array = collect_sections_genesis(unicodecsv.reader(fp))\n",
    "        else:\n",
    "            text_array = collect_sections(unicodecsv.DictReader(fp))\n",
    "    version = create_version(text_array)\n",
    "    index = create_index(base_en)\n",
    "    post_index(index, dest)\n",
    "    post_text(index['title'], version, index_count=\"on\", server=dest)"
   ]
  },
  {
   "cell_type": "code",
   "execution_count": 31,
   "metadata": {},
   "outputs": [
    {
     "name": "stdout",
     "output_type": "stream",
     "text": [
      "\u001b[92mPOST request to https://www.sefaria.org/api/v2/raw/index/Etz_Yosef_on_Bereishit_Rabbah successful\u001b[0m\n",
      "\u001b[91mPOST request to https://www.sefaria.org/api/texts/Etz_Yosef_on_Bereishit_Rabbah failed\u001b[0m\n",
      "\u001b[92mPOST request to https://www.sefaria.org/api/v2/raw/index/Etz_Yosef_on_Shemot_Rabbah successful\u001b[0m\n",
      "\u001b[92mPOST request to https://www.sefaria.org/api/texts/Etz_Yosef_on_Shemot_Rabbah successful\u001b[0m\n",
      "\u001b[92mPOST request to https://www.sefaria.org/api/v2/raw/index/Etz_Yosef_on_Vayikra_Rabbah successful\u001b[0m\n",
      "\u001b[92mPOST request to https://www.sefaria.org/api/texts/Etz_Yosef_on_Vayikra_Rabbah successful\u001b[0m\n",
      "\u001b[92mPOST request to https://www.sefaria.org/api/v2/raw/index/Etz_Yosef_on_Bamidbar_Rabbah successful\u001b[0m\n",
      "\u001b[92mPOST request to https://www.sefaria.org/api/texts/Etz_Yosef_on_Bamidbar_Rabbah successful\u001b[0m\n",
      "\u001b[92mPOST request to https://www.sefaria.org/api/v2/raw/index/Etz_Yosef_on_Devarim_Rabbah successful\u001b[0m\n",
      "\u001b[92mPOST request to https://www.sefaria.org/api/texts/Etz_Yosef_on_Devarim_Rabbah successful\u001b[0m\n"
     ]
    }
   ],
   "source": [
    "upload_text(u'Etz_Yosef_-_Genesis_-_tags_corrected.csv', u'Bereishit Rabbah', server)\n",
    "upload_text(u'Etz_Yoseph_-_Exodus.csv', u'Shemot Rabbah', server)\n",
    "upload_text(u'Etz_Yoseph_-_Leviticus.csv', u'Vayikra Rabbah', server)\n",
    "upload_text(u'Etz_Yoseph_-_Bamidbar.csv', u'Bamidbar Rabbah', server)\n",
    "upload_text(u'Etz_Yoseph_-_Deuteronomy.csv', u'Devarim Rabbah', server)"
   ]
  }
 ],
 "metadata": {
  "kernelspec": {
   "display_name": "Python 2",
   "language": "python",
   "name": "python2"
  },
  "language_info": {
   "codemirror_mode": {
    "name": "ipython",
    "version": 2
   },
   "file_extension": ".py",
   "mimetype": "text/x-python",
   "name": "python",
   "nbconvert_exporter": "python",
   "pygments_lexer": "ipython2",
   "version": "2.7.12"
  }
 },
 "nbformat": 4,
 "nbformat_minor": 2
}
